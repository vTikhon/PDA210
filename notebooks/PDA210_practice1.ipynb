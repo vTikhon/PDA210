{
 "nbformat": 4,
 "nbformat_minor": 0,
 "metadata": {
  "colab": {
   "provenance": [
    {
     "file_id": "14sC4YWHv5VA3vq_I3CwDJaN32Z_KfWMv",
     "timestamp": 1742581681322
    }
   ]
  },
  "kernelspec": {
   "name": "python3",
   "display_name": "Python 3 (ipykernel)",
   "language": "python"
  },
  "language_info": {
   "name": "python"
  }
 },
 "cells": [
  {
   "metadata": {
    "ExecuteTime": {
     "end_time": "2025-03-26T07:14:49.667043Z",
     "start_time": "2025-03-26T07:14:49.664701Z"
    }
   },
   "cell_type": "code",
   "source": [
    "import pandas as pd\n",
    "import matplotlib.pyplot as plt\n",
    "\n",
    "from xgboost import XGBRegressor\n",
    "from sklearn.metrics import mean_absolute_percentage_error, r2_score, mean_absolute_error"
   ],
   "outputs": [],
   "execution_count": 400
  },
  {
   "cell_type": "code",
   "metadata": {
    "id": "pV33mYCC_CVW",
    "executionInfo": {
     "status": "ok",
     "timestamp": 1733164483928,
     "user_tz": -180,
     "elapsed": 1887,
     "user": {
      "displayName": "Rodion Semendyaev",
      "userId": "18339488767020031439"
     }
    },
    "outputId": "9f1d38ad-d421-4ff6-989a-47afff66a23c",
    "colab": {
     "base_uri": "https://localhost:8080/",
     "height": 1000
    },
    "ExecuteTime": {
     "end_time": "2025-03-26T07:14:50.054469Z",
     "start_time": "2025-03-26T07:14:49.680045Z"
    }
   },
   "source": [
    "pd.set_option(\"display.max_columns\", 200)\n",
    "\n",
    "df = pd.read_csv(\"https://raw.githubusercontent.com/Semendyeav/datasets/refs/heads/main/PDA210_Practice1_Sales.csv\", encoding='latin-1')\n",
    "df"
   ],
   "outputs": [
    {
     "data": {
      "text/plain": [
       "      Row ID        Order ID  Order Date   Ship Date       Ship Mode  \\\n",
       "0          1  CA-2016-152156   11/8/2016  11/11/2016    Second Class   \n",
       "1          2  CA-2016-152156   11/8/2016  11/11/2016    Second Class   \n",
       "2          4  US-2015-108966  10/11/2015  10/18/2015  Standard Class   \n",
       "3          6  CA-2014-115812    6/9/2014   6/14/2014  Standard Class   \n",
       "4         11  CA-2014-115812    6/9/2014   6/14/2014  Standard Class   \n",
       "...      ...             ...         ...         ...             ...   \n",
       "2116    9963  CA-2015-168088   3/19/2015   3/22/2015     First Class   \n",
       "2117    9965  CA-2016-146374   12/5/2016  12/10/2016    Second Class   \n",
       "2118    9981  US-2015-151435    9/6/2015    9/9/2015    Second Class   \n",
       "2119    9990  CA-2014-110422   1/21/2014   1/23/2014    Second Class   \n",
       "2120    9991  CA-2017-121258   2/26/2017    3/3/2017  Standard Class   \n",
       "\n",
       "     Customer ID     Customer Name      Segment        Country  \\\n",
       "0       CG-12520       Claire Gute     Consumer  United States   \n",
       "1       CG-12520       Claire Gute     Consumer  United States   \n",
       "2       SO-20335    Sean O'Donnell     Consumer  United States   \n",
       "3       BH-11710   Brosina Hoffman     Consumer  United States   \n",
       "4       BH-11710   Brosina Hoffman     Consumer  United States   \n",
       "...          ...               ...          ...            ...   \n",
       "2116    CM-12655  Corinna Mitchell  Home Office  United States   \n",
       "2117    HE-14800      Harold Engle    Corporate  United States   \n",
       "2118    SW-20455       Shaun Weien     Consumer  United States   \n",
       "2119    TB-21400  Tom Boeckenhauer     Consumer  United States   \n",
       "2120    DB-13060       Dave Brooks     Consumer  United States   \n",
       "\n",
       "                 City       State  Postal Code   Region       Product ID  \\\n",
       "0           Henderson    Kentucky        42420    South  FUR-BO-10001798   \n",
       "1           Henderson    Kentucky        42420    South  FUR-CH-10000454   \n",
       "2     Fort Lauderdale     Florida        33311    South  FUR-TA-10000577   \n",
       "3         Los Angeles  California        90032     West  FUR-FU-10001487   \n",
       "4         Los Angeles  California        90032     West  FUR-TA-10001539   \n",
       "...               ...         ...          ...      ...              ...   \n",
       "2116          Houston       Texas        77041  Central  FUR-BO-10004218   \n",
       "2117           Newark    Delaware        19711     East  FUR-FU-10002671   \n",
       "2118        Lafayette   Louisiana        70506    South  FUR-TA-10001039   \n",
       "2119            Miami     Florida        33180    South  FUR-FU-10001889   \n",
       "2120       Costa Mesa  California        92627     West  FUR-FU-10000747   \n",
       "\n",
       "       Category Sub-Category  \\\n",
       "0     Furniture    Bookcases   \n",
       "1     Furniture       Chairs   \n",
       "2     Furniture       Tables   \n",
       "3     Furniture  Furnishings   \n",
       "4     Furniture       Tables   \n",
       "...         ...          ...   \n",
       "2116  Furniture    Bookcases   \n",
       "2117  Furniture  Furnishings   \n",
       "2118  Furniture       Tables   \n",
       "2119  Furniture  Furnishings   \n",
       "2120  Furniture  Furnishings   \n",
       "\n",
       "                                           Product Name      Sales  Quantity  \\\n",
       "0                     Bush Somerset Collection Bookcase   261.9600         2   \n",
       "1     Hon Deluxe Fabric Upholstered Stacking Chairs,...   731.9400         3   \n",
       "2         Bretford CR4500 Series Slim Rectangular Table   957.5775         5   \n",
       "3     Eldon Expressions Wood and Plastic Desk Access...    48.8600         7   \n",
       "4              Chromcraft Rectangular Conference Tables  1706.1840         9   \n",
       "...                                                 ...        ...       ...   \n",
       "2116  Bush Heritage Pine Collection 5-Shelf Bookcase...   383.4656         4   \n",
       "2117  Electrix 20W Halogen Replacement Bulb for Zoom...    13.4000         1   \n",
       "2118                         KI Adjustable-Height Table    85.9800         1   \n",
       "2119                             Ultra Door Pull Handle    25.2480         3   \n",
       "2120  Tenex B1-RE Series Chair Mats for Low Pile Car...    91.9600         2   \n",
       "\n",
       "      Discount    Profit  \n",
       "0         0.00   41.9136  \n",
       "1         0.00  219.5820  \n",
       "2         0.45 -383.0310  \n",
       "3         0.00   14.1694  \n",
       "4         0.20   85.3092  \n",
       "...        ...       ...  \n",
       "2116      0.32  -67.6704  \n",
       "2117      0.00    6.4320  \n",
       "2118      0.00   22.3548  \n",
       "2119      0.20    4.1028  \n",
       "2120      0.00   15.6332  \n",
       "\n",
       "[2121 rows x 21 columns]"
      ],
      "text/html": [
       "<div>\n",
       "<style scoped>\n",
       "    .dataframe tbody tr th:only-of-type {\n",
       "        vertical-align: middle;\n",
       "    }\n",
       "\n",
       "    .dataframe tbody tr th {\n",
       "        vertical-align: top;\n",
       "    }\n",
       "\n",
       "    .dataframe thead th {\n",
       "        text-align: right;\n",
       "    }\n",
       "</style>\n",
       "<table border=\"1\" class=\"dataframe\">\n",
       "  <thead>\n",
       "    <tr style=\"text-align: right;\">\n",
       "      <th></th>\n",
       "      <th>Row ID</th>\n",
       "      <th>Order ID</th>\n",
       "      <th>Order Date</th>\n",
       "      <th>Ship Date</th>\n",
       "      <th>Ship Mode</th>\n",
       "      <th>Customer ID</th>\n",
       "      <th>Customer Name</th>\n",
       "      <th>Segment</th>\n",
       "      <th>Country</th>\n",
       "      <th>City</th>\n",
       "      <th>State</th>\n",
       "      <th>Postal Code</th>\n",
       "      <th>Region</th>\n",
       "      <th>Product ID</th>\n",
       "      <th>Category</th>\n",
       "      <th>Sub-Category</th>\n",
       "      <th>Product Name</th>\n",
       "      <th>Sales</th>\n",
       "      <th>Quantity</th>\n",
       "      <th>Discount</th>\n",
       "      <th>Profit</th>\n",
       "    </tr>\n",
       "  </thead>\n",
       "  <tbody>\n",
       "    <tr>\n",
       "      <th>0</th>\n",
       "      <td>1</td>\n",
       "      <td>CA-2016-152156</td>\n",
       "      <td>11/8/2016</td>\n",
       "      <td>11/11/2016</td>\n",
       "      <td>Second Class</td>\n",
       "      <td>CG-12520</td>\n",
       "      <td>Claire Gute</td>\n",
       "      <td>Consumer</td>\n",
       "      <td>United States</td>\n",
       "      <td>Henderson</td>\n",
       "      <td>Kentucky</td>\n",
       "      <td>42420</td>\n",
       "      <td>South</td>\n",
       "      <td>FUR-BO-10001798</td>\n",
       "      <td>Furniture</td>\n",
       "      <td>Bookcases</td>\n",
       "      <td>Bush Somerset Collection Bookcase</td>\n",
       "      <td>261.9600</td>\n",
       "      <td>2</td>\n",
       "      <td>0.00</td>\n",
       "      <td>41.9136</td>\n",
       "    </tr>\n",
       "    <tr>\n",
       "      <th>1</th>\n",
       "      <td>2</td>\n",
       "      <td>CA-2016-152156</td>\n",
       "      <td>11/8/2016</td>\n",
       "      <td>11/11/2016</td>\n",
       "      <td>Second Class</td>\n",
       "      <td>CG-12520</td>\n",
       "      <td>Claire Gute</td>\n",
       "      <td>Consumer</td>\n",
       "      <td>United States</td>\n",
       "      <td>Henderson</td>\n",
       "      <td>Kentucky</td>\n",
       "      <td>42420</td>\n",
       "      <td>South</td>\n",
       "      <td>FUR-CH-10000454</td>\n",
       "      <td>Furniture</td>\n",
       "      <td>Chairs</td>\n",
       "      <td>Hon Deluxe Fabric Upholstered Stacking Chairs,...</td>\n",
       "      <td>731.9400</td>\n",
       "      <td>3</td>\n",
       "      <td>0.00</td>\n",
       "      <td>219.5820</td>\n",
       "    </tr>\n",
       "    <tr>\n",
       "      <th>2</th>\n",
       "      <td>4</td>\n",
       "      <td>US-2015-108966</td>\n",
       "      <td>10/11/2015</td>\n",
       "      <td>10/18/2015</td>\n",
       "      <td>Standard Class</td>\n",
       "      <td>SO-20335</td>\n",
       "      <td>Sean O'Donnell</td>\n",
       "      <td>Consumer</td>\n",
       "      <td>United States</td>\n",
       "      <td>Fort Lauderdale</td>\n",
       "      <td>Florida</td>\n",
       "      <td>33311</td>\n",
       "      <td>South</td>\n",
       "      <td>FUR-TA-10000577</td>\n",
       "      <td>Furniture</td>\n",
       "      <td>Tables</td>\n",
       "      <td>Bretford CR4500 Series Slim Rectangular Table</td>\n",
       "      <td>957.5775</td>\n",
       "      <td>5</td>\n",
       "      <td>0.45</td>\n",
       "      <td>-383.0310</td>\n",
       "    </tr>\n",
       "    <tr>\n",
       "      <th>3</th>\n",
       "      <td>6</td>\n",
       "      <td>CA-2014-115812</td>\n",
       "      <td>6/9/2014</td>\n",
       "      <td>6/14/2014</td>\n",
       "      <td>Standard Class</td>\n",
       "      <td>BH-11710</td>\n",
       "      <td>Brosina Hoffman</td>\n",
       "      <td>Consumer</td>\n",
       "      <td>United States</td>\n",
       "      <td>Los Angeles</td>\n",
       "      <td>California</td>\n",
       "      <td>90032</td>\n",
       "      <td>West</td>\n",
       "      <td>FUR-FU-10001487</td>\n",
       "      <td>Furniture</td>\n",
       "      <td>Furnishings</td>\n",
       "      <td>Eldon Expressions Wood and Plastic Desk Access...</td>\n",
       "      <td>48.8600</td>\n",
       "      <td>7</td>\n",
       "      <td>0.00</td>\n",
       "      <td>14.1694</td>\n",
       "    </tr>\n",
       "    <tr>\n",
       "      <th>4</th>\n",
       "      <td>11</td>\n",
       "      <td>CA-2014-115812</td>\n",
       "      <td>6/9/2014</td>\n",
       "      <td>6/14/2014</td>\n",
       "      <td>Standard Class</td>\n",
       "      <td>BH-11710</td>\n",
       "      <td>Brosina Hoffman</td>\n",
       "      <td>Consumer</td>\n",
       "      <td>United States</td>\n",
       "      <td>Los Angeles</td>\n",
       "      <td>California</td>\n",
       "      <td>90032</td>\n",
       "      <td>West</td>\n",
       "      <td>FUR-TA-10001539</td>\n",
       "      <td>Furniture</td>\n",
       "      <td>Tables</td>\n",
       "      <td>Chromcraft Rectangular Conference Tables</td>\n",
       "      <td>1706.1840</td>\n",
       "      <td>9</td>\n",
       "      <td>0.20</td>\n",
       "      <td>85.3092</td>\n",
       "    </tr>\n",
       "    <tr>\n",
       "      <th>...</th>\n",
       "      <td>...</td>\n",
       "      <td>...</td>\n",
       "      <td>...</td>\n",
       "      <td>...</td>\n",
       "      <td>...</td>\n",
       "      <td>...</td>\n",
       "      <td>...</td>\n",
       "      <td>...</td>\n",
       "      <td>...</td>\n",
       "      <td>...</td>\n",
       "      <td>...</td>\n",
       "      <td>...</td>\n",
       "      <td>...</td>\n",
       "      <td>...</td>\n",
       "      <td>...</td>\n",
       "      <td>...</td>\n",
       "      <td>...</td>\n",
       "      <td>...</td>\n",
       "      <td>...</td>\n",
       "      <td>...</td>\n",
       "      <td>...</td>\n",
       "    </tr>\n",
       "    <tr>\n",
       "      <th>2116</th>\n",
       "      <td>9963</td>\n",
       "      <td>CA-2015-168088</td>\n",
       "      <td>3/19/2015</td>\n",
       "      <td>3/22/2015</td>\n",
       "      <td>First Class</td>\n",
       "      <td>CM-12655</td>\n",
       "      <td>Corinna Mitchell</td>\n",
       "      <td>Home Office</td>\n",
       "      <td>United States</td>\n",
       "      <td>Houston</td>\n",
       "      <td>Texas</td>\n",
       "      <td>77041</td>\n",
       "      <td>Central</td>\n",
       "      <td>FUR-BO-10004218</td>\n",
       "      <td>Furniture</td>\n",
       "      <td>Bookcases</td>\n",
       "      <td>Bush Heritage Pine Collection 5-Shelf Bookcase...</td>\n",
       "      <td>383.4656</td>\n",
       "      <td>4</td>\n",
       "      <td>0.32</td>\n",
       "      <td>-67.6704</td>\n",
       "    </tr>\n",
       "    <tr>\n",
       "      <th>2117</th>\n",
       "      <td>9965</td>\n",
       "      <td>CA-2016-146374</td>\n",
       "      <td>12/5/2016</td>\n",
       "      <td>12/10/2016</td>\n",
       "      <td>Second Class</td>\n",
       "      <td>HE-14800</td>\n",
       "      <td>Harold Engle</td>\n",
       "      <td>Corporate</td>\n",
       "      <td>United States</td>\n",
       "      <td>Newark</td>\n",
       "      <td>Delaware</td>\n",
       "      <td>19711</td>\n",
       "      <td>East</td>\n",
       "      <td>FUR-FU-10002671</td>\n",
       "      <td>Furniture</td>\n",
       "      <td>Furnishings</td>\n",
       "      <td>Electrix 20W Halogen Replacement Bulb for Zoom...</td>\n",
       "      <td>13.4000</td>\n",
       "      <td>1</td>\n",
       "      <td>0.00</td>\n",
       "      <td>6.4320</td>\n",
       "    </tr>\n",
       "    <tr>\n",
       "      <th>2118</th>\n",
       "      <td>9981</td>\n",
       "      <td>US-2015-151435</td>\n",
       "      <td>9/6/2015</td>\n",
       "      <td>9/9/2015</td>\n",
       "      <td>Second Class</td>\n",
       "      <td>SW-20455</td>\n",
       "      <td>Shaun Weien</td>\n",
       "      <td>Consumer</td>\n",
       "      <td>United States</td>\n",
       "      <td>Lafayette</td>\n",
       "      <td>Louisiana</td>\n",
       "      <td>70506</td>\n",
       "      <td>South</td>\n",
       "      <td>FUR-TA-10001039</td>\n",
       "      <td>Furniture</td>\n",
       "      <td>Tables</td>\n",
       "      <td>KI Adjustable-Height Table</td>\n",
       "      <td>85.9800</td>\n",
       "      <td>1</td>\n",
       "      <td>0.00</td>\n",
       "      <td>22.3548</td>\n",
       "    </tr>\n",
       "    <tr>\n",
       "      <th>2119</th>\n",
       "      <td>9990</td>\n",
       "      <td>CA-2014-110422</td>\n",
       "      <td>1/21/2014</td>\n",
       "      <td>1/23/2014</td>\n",
       "      <td>Second Class</td>\n",
       "      <td>TB-21400</td>\n",
       "      <td>Tom Boeckenhauer</td>\n",
       "      <td>Consumer</td>\n",
       "      <td>United States</td>\n",
       "      <td>Miami</td>\n",
       "      <td>Florida</td>\n",
       "      <td>33180</td>\n",
       "      <td>South</td>\n",
       "      <td>FUR-FU-10001889</td>\n",
       "      <td>Furniture</td>\n",
       "      <td>Furnishings</td>\n",
       "      <td>Ultra Door Pull Handle</td>\n",
       "      <td>25.2480</td>\n",
       "      <td>3</td>\n",
       "      <td>0.20</td>\n",
       "      <td>4.1028</td>\n",
       "    </tr>\n",
       "    <tr>\n",
       "      <th>2120</th>\n",
       "      <td>9991</td>\n",
       "      <td>CA-2017-121258</td>\n",
       "      <td>2/26/2017</td>\n",
       "      <td>3/3/2017</td>\n",
       "      <td>Standard Class</td>\n",
       "      <td>DB-13060</td>\n",
       "      <td>Dave Brooks</td>\n",
       "      <td>Consumer</td>\n",
       "      <td>United States</td>\n",
       "      <td>Costa Mesa</td>\n",
       "      <td>California</td>\n",
       "      <td>92627</td>\n",
       "      <td>West</td>\n",
       "      <td>FUR-FU-10000747</td>\n",
       "      <td>Furniture</td>\n",
       "      <td>Furnishings</td>\n",
       "      <td>Tenex B1-RE Series Chair Mats for Low Pile Car...</td>\n",
       "      <td>91.9600</td>\n",
       "      <td>2</td>\n",
       "      <td>0.00</td>\n",
       "      <td>15.6332</td>\n",
       "    </tr>\n",
       "  </tbody>\n",
       "</table>\n",
       "<p>2121 rows × 21 columns</p>\n",
       "</div>"
      ]
     },
     "execution_count": 401,
     "metadata": {},
     "output_type": "execute_result"
    }
   ],
   "execution_count": 401
  },
  {
   "cell_type": "code",
   "source": [
    "# Поработаем с названием колонок\n",
    "df.rename(columns=lambda x: x.replace(' ','_').lower(), inplace=True)"
   ],
   "metadata": {
    "id": "KQ8ZAAxU_Dov",
    "ExecuteTime": {
     "end_time": "2025-03-26T07:14:50.094629Z",
     "start_time": "2025-03-26T07:14:50.091860Z"
    }
   },
   "outputs": [],
   "execution_count": 402
  },
  {
   "metadata": {
    "ExecuteTime": {
     "end_time": "2025-03-26T07:14:50.144209Z",
     "start_time": "2025-03-26T07:14:50.138359Z"
    }
   },
   "cell_type": "code",
   "source": "df.info()",
   "outputs": [
    {
     "name": "stdout",
     "output_type": "stream",
     "text": [
      "<class 'pandas.core.frame.DataFrame'>\n",
      "RangeIndex: 2121 entries, 0 to 2120\n",
      "Data columns (total 21 columns):\n",
      " #   Column         Non-Null Count  Dtype  \n",
      "---  ------         --------------  -----  \n",
      " 0   row_id         2121 non-null   int64  \n",
      " 1   order_id       2121 non-null   object \n",
      " 2   order_date     2121 non-null   object \n",
      " 3   ship_date      2121 non-null   object \n",
      " 4   ship_mode      2121 non-null   object \n",
      " 5   customer_id    2121 non-null   object \n",
      " 6   customer_name  2121 non-null   object \n",
      " 7   segment        2121 non-null   object \n",
      " 8   country        2121 non-null   object \n",
      " 9   city           2121 non-null   object \n",
      " 10  state          2121 non-null   object \n",
      " 11  postal_code    2121 non-null   int64  \n",
      " 12  region         2121 non-null   object \n",
      " 13  product_id     2121 non-null   object \n",
      " 14  category       2121 non-null   object \n",
      " 15  sub-category   2121 non-null   object \n",
      " 16  product_name   2121 non-null   object \n",
      " 17  sales          2121 non-null   float64\n",
      " 18  quantity       2121 non-null   int64  \n",
      " 19  discount       2121 non-null   float64\n",
      " 20  profit         2121 non-null   float64\n",
      "dtypes: float64(3), int64(3), object(15)\n",
      "memory usage: 348.1+ KB\n"
     ]
    }
   ],
   "execution_count": 403
  },
  {
   "cell_type": "code",
   "source": [
    "# Поработаем с датами\n",
    "df['order_date'] = pd.to_datetime(df['order_date'])\n",
    "df['ship_date'] = pd.to_datetime(df['ship_date'])\n",
    "print(df)"
   ],
   "metadata": {
    "id": "i0wNoMu7_Gvr",
    "ExecuteTime": {
     "end_time": "2025-03-26T07:14:50.180197Z",
     "start_time": "2025-03-26T07:14:50.168211Z"
    }
   },
   "outputs": [
    {
     "name": "stdout",
     "output_type": "stream",
     "text": [
      "      row_id        order_id order_date  ship_date       ship_mode  \\\n",
      "0          1  CA-2016-152156 2016-11-08 2016-11-11    Second Class   \n",
      "1          2  CA-2016-152156 2016-11-08 2016-11-11    Second Class   \n",
      "2          4  US-2015-108966 2015-10-11 2015-10-18  Standard Class   \n",
      "3          6  CA-2014-115812 2014-06-09 2014-06-14  Standard Class   \n",
      "4         11  CA-2014-115812 2014-06-09 2014-06-14  Standard Class   \n",
      "...      ...             ...        ...        ...             ...   \n",
      "2116    9963  CA-2015-168088 2015-03-19 2015-03-22     First Class   \n",
      "2117    9965  CA-2016-146374 2016-12-05 2016-12-10    Second Class   \n",
      "2118    9981  US-2015-151435 2015-09-06 2015-09-09    Second Class   \n",
      "2119    9990  CA-2014-110422 2014-01-21 2014-01-23    Second Class   \n",
      "2120    9991  CA-2017-121258 2017-02-26 2017-03-03  Standard Class   \n",
      "\n",
      "     customer_id     customer_name      segment        country  \\\n",
      "0       CG-12520       Claire Gute     Consumer  United States   \n",
      "1       CG-12520       Claire Gute     Consumer  United States   \n",
      "2       SO-20335    Sean O'Donnell     Consumer  United States   \n",
      "3       BH-11710   Brosina Hoffman     Consumer  United States   \n",
      "4       BH-11710   Brosina Hoffman     Consumer  United States   \n",
      "...          ...               ...          ...            ...   \n",
      "2116    CM-12655  Corinna Mitchell  Home Office  United States   \n",
      "2117    HE-14800      Harold Engle    Corporate  United States   \n",
      "2118    SW-20455       Shaun Weien     Consumer  United States   \n",
      "2119    TB-21400  Tom Boeckenhauer     Consumer  United States   \n",
      "2120    DB-13060       Dave Brooks     Consumer  United States   \n",
      "\n",
      "                 city       state  postal_code   region       product_id  \\\n",
      "0           Henderson    Kentucky        42420    South  FUR-BO-10001798   \n",
      "1           Henderson    Kentucky        42420    South  FUR-CH-10000454   \n",
      "2     Fort Lauderdale     Florida        33311    South  FUR-TA-10000577   \n",
      "3         Los Angeles  California        90032     West  FUR-FU-10001487   \n",
      "4         Los Angeles  California        90032     West  FUR-TA-10001539   \n",
      "...               ...         ...          ...      ...              ...   \n",
      "2116          Houston       Texas        77041  Central  FUR-BO-10004218   \n",
      "2117           Newark    Delaware        19711     East  FUR-FU-10002671   \n",
      "2118        Lafayette   Louisiana        70506    South  FUR-TA-10001039   \n",
      "2119            Miami     Florida        33180    South  FUR-FU-10001889   \n",
      "2120       Costa Mesa  California        92627     West  FUR-FU-10000747   \n",
      "\n",
      "       category sub-category  \\\n",
      "0     Furniture    Bookcases   \n",
      "1     Furniture       Chairs   \n",
      "2     Furniture       Tables   \n",
      "3     Furniture  Furnishings   \n",
      "4     Furniture       Tables   \n",
      "...         ...          ...   \n",
      "2116  Furniture    Bookcases   \n",
      "2117  Furniture  Furnishings   \n",
      "2118  Furniture       Tables   \n",
      "2119  Furniture  Furnishings   \n",
      "2120  Furniture  Furnishings   \n",
      "\n",
      "                                           product_name      sales  quantity  \\\n",
      "0                     Bush Somerset Collection Bookcase   261.9600         2   \n",
      "1     Hon Deluxe Fabric Upholstered Stacking Chairs,...   731.9400         3   \n",
      "2         Bretford CR4500 Series Slim Rectangular Table   957.5775         5   \n",
      "3     Eldon Expressions Wood and Plastic Desk Access...    48.8600         7   \n",
      "4              Chromcraft Rectangular Conference Tables  1706.1840         9   \n",
      "...                                                 ...        ...       ...   \n",
      "2116  Bush Heritage Pine Collection 5-Shelf Bookcase...   383.4656         4   \n",
      "2117  Electrix 20W Halogen Replacement Bulb for Zoom...    13.4000         1   \n",
      "2118                         KI Adjustable-Height Table    85.9800         1   \n",
      "2119                             Ultra Door Pull Handle    25.2480         3   \n",
      "2120  Tenex B1-RE Series Chair Mats for Low Pile Car...    91.9600         2   \n",
      "\n",
      "      discount    profit  \n",
      "0         0.00   41.9136  \n",
      "1         0.00  219.5820  \n",
      "2         0.45 -383.0310  \n",
      "3         0.00   14.1694  \n",
      "4         0.20   85.3092  \n",
      "...        ...       ...  \n",
      "2116      0.32  -67.6704  \n",
      "2117      0.00    6.4320  \n",
      "2118      0.00   22.3548  \n",
      "2119      0.20    4.1028  \n",
      "2120      0.00   15.6332  \n",
      "\n",
      "[2121 rows x 21 columns]\n"
     ]
    }
   ],
   "execution_count": 404
  },
  {
   "metadata": {
    "ExecuteTime": {
     "end_time": "2025-03-26T07:14:50.202633Z",
     "start_time": "2025-03-26T07:14:50.196778Z"
    }
   },
   "cell_type": "code",
   "source": "df.info()",
   "outputs": [
    {
     "name": "stdout",
     "output_type": "stream",
     "text": [
      "<class 'pandas.core.frame.DataFrame'>\n",
      "RangeIndex: 2121 entries, 0 to 2120\n",
      "Data columns (total 21 columns):\n",
      " #   Column         Non-Null Count  Dtype         \n",
      "---  ------         --------------  -----         \n",
      " 0   row_id         2121 non-null   int64         \n",
      " 1   order_id       2121 non-null   object        \n",
      " 2   order_date     2121 non-null   datetime64[ns]\n",
      " 3   ship_date      2121 non-null   datetime64[ns]\n",
      " 4   ship_mode      2121 non-null   object        \n",
      " 5   customer_id    2121 non-null   object        \n",
      " 6   customer_name  2121 non-null   object        \n",
      " 7   segment        2121 non-null   object        \n",
      " 8   country        2121 non-null   object        \n",
      " 9   city           2121 non-null   object        \n",
      " 10  state          2121 non-null   object        \n",
      " 11  postal_code    2121 non-null   int64         \n",
      " 12  region         2121 non-null   object        \n",
      " 13  product_id     2121 non-null   object        \n",
      " 14  category       2121 non-null   object        \n",
      " 15  sub-category   2121 non-null   object        \n",
      " 16  product_name   2121 non-null   object        \n",
      " 17  sales          2121 non-null   float64       \n",
      " 18  quantity       2121 non-null   int64         \n",
      " 19  discount       2121 non-null   float64       \n",
      " 20  profit         2121 non-null   float64       \n",
      "dtypes: datetime64[ns](2), float64(3), int64(3), object(13)\n",
      "memory usage: 348.1+ KB\n"
     ]
    }
   ],
   "execution_count": 405
  },
  {
   "cell_type": "code",
   "source": [
    "# Cколько в среднем доставка товара?\n",
    "df['time_delivery'] = df['ship_date'] - df['order_date']\n",
    "df['time_delivery'].mean()"
   ],
   "metadata": {
    "id": "kvtWI32j_IiN",
    "ExecuteTime": {
     "end_time": "2025-03-26T07:14:50.224493Z",
     "start_time": "2025-03-26T07:14:50.220320Z"
    }
   },
   "outputs": [
    {
     "data": {
      "text/plain": [
       "Timedelta('3 days 22:00:30.551626591')"
      ]
     },
     "execution_count": 406,
     "metadata": {},
     "output_type": "execute_result"
    }
   ],
   "execution_count": 406
  },
  {
   "metadata": {
    "ExecuteTime": {
     "end_time": "2025-03-26T07:14:50.251465Z",
     "start_time": "2025-03-26T07:14:50.247691Z"
    }
   },
   "cell_type": "code",
   "source": [
    "# Что чаще всего заказывают\n",
    "max_orders = df['product_id'].value_counts().max()\n",
    "df['product_name'][max_orders]"
   ],
   "outputs": [
    {
     "data": {
      "text/plain": [
       "\"Global Value Mid-Back Manager's Chair, Gray\""
      ]
     },
     "execution_count": 407,
     "metadata": {},
     "output_type": "execute_result"
    }
   ],
   "execution_count": 407
  },
  {
   "metadata": {
    "ExecuteTime": {
     "end_time": "2025-03-26T07:14:50.272322Z",
     "start_time": "2025-03-26T07:14:50.268335Z"
    }
   },
   "cell_type": "code",
   "source": "df['category'].unique()",
   "outputs": [
    {
     "data": {
      "text/plain": [
       "array(['Furniture'], dtype=object)"
      ]
     },
     "execution_count": 408,
     "metadata": {},
     "output_type": "execute_result"
    }
   ],
   "execution_count": 408
  },
  {
   "metadata": {
    "ExecuteTime": {
     "end_time": "2025-03-26T07:14:50.292997Z",
     "start_time": "2025-03-26T07:14:50.289496Z"
    }
   },
   "cell_type": "code",
   "source": "df['sub-category'].unique()",
   "outputs": [
    {
     "data": {
      "text/plain": [
       "array(['Bookcases', 'Chairs', 'Tables', 'Furnishings'], dtype=object)"
      ]
     },
     "execution_count": 409,
     "metadata": {},
     "output_type": "execute_result"
    }
   ],
   "execution_count": 409
  },
  {
   "cell_type": "code",
   "source": [
    "# Какая категория самая прибыльная\n",
    "df.groupby('sub-category')['profit'].sum()"
   ],
   "metadata": {
    "id": "7F2tzCRM_MoU",
    "ExecuteTime": {
     "end_time": "2025-03-26T07:14:50.314179Z",
     "start_time": "2025-03-26T07:14:50.309774Z"
    }
   },
   "outputs": [
    {
     "data": {
      "text/plain": [
       "sub-category\n",
       "Bookcases      -3472.5560\n",
       "Chairs         26590.1663\n",
       "Furnishings    13059.1436\n",
       "Tables        -17725.4811\n",
       "Name: profit, dtype: float64"
      ]
     },
     "execution_count": 410,
     "metadata": {},
     "output_type": "execute_result"
    }
   ],
   "execution_count": 410
  },
  {
   "metadata": {
    "ExecuteTime": {
     "end_time": "2025-03-26T07:14:50.351296Z",
     "start_time": "2025-03-26T07:14:50.347790Z"
    }
   },
   "cell_type": "code",
   "source": [
    "# Какая категория самая прибыльная\n",
    "df.groupby('sub-category')['profit'].sum().idxmax()"
   ],
   "outputs": [
    {
     "data": {
      "text/plain": [
       "'Chairs'"
      ]
     },
     "execution_count": 411,
     "metadata": {},
     "output_type": "execute_result"
    }
   ],
   "execution_count": 411
  },
  {
   "cell_type": "code",
   "source": [
    "# Штат с самым большими количеством заказами\n",
    "df['state'].value_counts()"
   ],
   "metadata": {
    "id": "FYEuMY8r_O1L",
    "ExecuteTime": {
     "end_time": "2025-03-26T07:14:50.379376Z",
     "start_time": "2025-03-26T07:14:50.375245Z"
    }
   },
   "outputs": [
    {
     "data": {
      "text/plain": [
       "state\n",
       "California              444\n",
       "New York                236\n",
       "Texas                   202\n",
       "Pennsylvania            125\n",
       "Illinois                123\n",
       "Washington              114\n",
       "Ohio                     93\n",
       "Florida                  85\n",
       "Virginia                 52\n",
       "Colorado                 51\n",
       "Michigan                 50\n",
       "Arizona                  49\n",
       "Tennessee                45\n",
       "North Carolina           42\n",
       "Massachusetts            33\n",
       "Georgia                  32\n",
       "Wisconsin                32\n",
       "Kentucky                 30\n",
       "Maryland                 28\n",
       "New Jersey               26\n",
       "Indiana                  23\n",
       "Oregon                   21\n",
       "Delaware                 18\n",
       "Rhode Island             16\n",
       "Oklahoma                 15\n",
       "Minnesota                13\n",
       "Connecticut              13\n",
       "Louisiana                11\n",
       "Alabama                  11\n",
       "Missouri                 11\n",
       "Mississippi               9\n",
       "Arkansas                  9\n",
       "Nevada                    9\n",
       "Utah                      7\n",
       "New Hampshire             6\n",
       "South Carolina            6\n",
       "Idaho                     6\n",
       "New Mexico                4\n",
       "Nebraska                  4\n",
       "Iowa                      4\n",
       "District of Columbia      3\n",
       "South Dakota              2\n",
       "Vermont                   2\n",
       "Kansas                    2\n",
       "Maine                     1\n",
       "Wyoming                   1\n",
       "Montana                   1\n",
       "West Virginia             1\n",
       "Name: count, dtype: int64"
      ]
     },
     "execution_count": 412,
     "metadata": {},
     "output_type": "execute_result"
    }
   ],
   "execution_count": 412
  },
  {
   "metadata": {
    "ExecuteTime": {
     "end_time": "2025-03-26T07:14:50.420315Z",
     "start_time": "2025-03-26T07:14:50.416793Z"
    }
   },
   "cell_type": "code",
   "source": [
    "# Штат с самым большими количеством заказами\n",
    "df['state'].value_counts().idxmax()"
   ],
   "outputs": [
    {
     "data": {
      "text/plain": [
       "'California'"
      ]
     },
     "execution_count": 413,
     "metadata": {},
     "output_type": "execute_result"
    }
   ],
   "execution_count": 413
  },
  {
   "metadata": {
    "ExecuteTime": {
     "end_time": "2025-03-26T07:14:50.466240Z",
     "start_time": "2025-03-26T07:14:50.462848Z"
    }
   },
   "cell_type": "code",
   "source": "df.columns",
   "outputs": [
    {
     "data": {
      "text/plain": [
       "Index(['row_id', 'order_id', 'order_date', 'ship_date', 'ship_mode',\n",
       "       'customer_id', 'customer_name', 'segment', 'country', 'city', 'state',\n",
       "       'postal_code', 'region', 'product_id', 'category', 'sub-category',\n",
       "       'product_name', 'sales', 'quantity', 'discount', 'profit',\n",
       "       'time_delivery'],\n",
       "      dtype='object')"
      ]
     },
     "execution_count": 414,
     "metadata": {},
     "output_type": "execute_result"
    }
   ],
   "execution_count": 414
  },
  {
   "metadata": {
    "ExecuteTime": {
     "end_time": "2025-03-26T07:14:50.519420Z",
     "start_time": "2025-03-26T07:14:50.513242Z"
    }
   },
   "cell_type": "code",
   "source": [
    "df.set_index('order_date', inplace=True)\n",
    "df['day'] = df.index.day\n",
    "df.info()"
   ],
   "outputs": [
    {
     "name": "stdout",
     "output_type": "stream",
     "text": [
      "<class 'pandas.core.frame.DataFrame'>\n",
      "DatetimeIndex: 2121 entries, 2016-11-08 to 2017-02-26\n",
      "Data columns (total 22 columns):\n",
      " #   Column         Non-Null Count  Dtype          \n",
      "---  ------         --------------  -----          \n",
      " 0   row_id         2121 non-null   int64          \n",
      " 1   order_id       2121 non-null   object         \n",
      " 2   ship_date      2121 non-null   datetime64[ns] \n",
      " 3   ship_mode      2121 non-null   object         \n",
      " 4   customer_id    2121 non-null   object         \n",
      " 5   customer_name  2121 non-null   object         \n",
      " 6   segment        2121 non-null   object         \n",
      " 7   country        2121 non-null   object         \n",
      " 8   city           2121 non-null   object         \n",
      " 9   state          2121 non-null   object         \n",
      " 10  postal_code    2121 non-null   int64          \n",
      " 11  region         2121 non-null   object         \n",
      " 12  product_id     2121 non-null   object         \n",
      " 13  category       2121 non-null   object         \n",
      " 14  sub-category   2121 non-null   object         \n",
      " 15  product_name   2121 non-null   object         \n",
      " 16  sales          2121 non-null   float64        \n",
      " 17  quantity       2121 non-null   int64          \n",
      " 18  discount       2121 non-null   float64        \n",
      " 19  profit         2121 non-null   float64        \n",
      " 20  time_delivery  2121 non-null   timedelta64[ns]\n",
      " 21  day            2121 non-null   int32          \n",
      "dtypes: datetime64[ns](1), float64(3), int32(1), int64(3), object(13), timedelta64[ns](1)\n",
      "memory usage: 372.8+ KB\n"
     ]
    }
   ],
   "execution_count": 415
  },
  {
   "cell_type": "code",
   "source": [
    "# Использовать для предсказания Sales градиентный бустинга и одну модель из рассмотренных в лекции 1\n",
    "\n",
    "separate_point = int(len(df) * 0.75)\n",
    "\n",
    "drop_columns = ['row_id', 'order_id', 'ship_date', 'ship_mode',\n",
    "       'customer_id', 'customer_name', 'city', 'state',\n",
    "       'postal_code', 'product_id', 'category',\n",
    "       'product_name', 'sales', 'quantity', 'profit']\n",
    "\n",
    "y_train = df['sales'][:separate_point]\n",
    "y_test = df['sales'][separate_point:]\n",
    "\n",
    "X_train = df.drop(columns=drop_columns + ['sales'])[:separate_point]\n",
    "X_test = df.drop(columns=drop_columns + ['sales'])[separate_point:]\n",
    "\n",
    "X_train = pd.get_dummies(X_train, columns=['sub-category', 'segment', 'region', 'discount', 'time_delivery', 'country'])\n",
    "X_test = pd.get_dummies(X_test, columns=['sub-category', 'segment', 'region', 'discount', 'time_delivery', 'country'])\n",
    "\n",
    "model = XGBRegressor(random_state=42)\n",
    "model.fit(X_train, y_train)\n",
    "\n",
    "y_pred = model.predict(X_test)"
   ],
   "metadata": {
    "id": "vsYKaGcn_Qyy",
    "ExecuteTime": {
     "end_time": "2025-03-26T07:14:50.770960Z",
     "start_time": "2025-03-26T07:14:50.714722Z"
    }
   },
   "outputs": [],
   "execution_count": 416
  },
  {
   "metadata": {
    "ExecuteTime": {
     "end_time": "2025-03-26T07:14:50.850322Z",
     "start_time": "2025-03-26T07:14:50.792034Z"
    }
   },
   "cell_type": "code",
   "source": [
    "plt.plot(y_pred, color='r')\n",
    "plt.plot(y_test.values)\n",
    "plt.show()\n",
    "print(r2_score(y_test, y_pred))\n",
    "print(mean_absolute_percentage_error(y_test, y_pred))\n",
    "print(mean_absolute_error(y_test, y_pred))"
   ],
   "outputs": [
    {
     "data": {
      "text/plain": [
       "<Figure size 640x480 with 1 Axes>"
      ],
      "image/png": "[encoded data removed]"
     },
     "metadata": {},
     "output_type": "display_data"
    },
    {
     "name": "stdout",
     "output_type": "stream",
     "text": [
      "0.07473635321781746\n",
      "2.3390002999407162\n",
      "287.25791515494024\n"
     ]
    }
   ],
   "execution_count": 417
  }
 ]
}
